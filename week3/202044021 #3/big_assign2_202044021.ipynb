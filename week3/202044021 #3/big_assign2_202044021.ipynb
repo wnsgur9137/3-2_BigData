{
  "nbformat": 4,
  "nbformat_minor": 0,
  "metadata": {
    "colab": {
      "provenance": [],
      "collapsed_sections": []
    },
    "kernelspec": {
      "name": "python3",
      "display_name": "Python 3"
    },
    "language_info": {
      "name": "python"
    }
  },
  "cells": [
    {
      "cell_type": "markdown",
      "source": [
        "1.아래와 같은 구조를 갖는 시리즈를 만들고 print 하는 code를 아래 셀에  작성한 후 실행하시오. 교안의 예제1-1 참고\n",
        "\n",
        "\n",
        "|||\n",
        "|-|-|\n",
        "|e|5|\n",
        "|d|6|\n",
        "|f|7|\n",
        "|g|8|\n",
        "\n"
      ],
      "metadata": {
        "id": "XGRZkfQG-CSH"
      }
    },
    {
      "cell_type": "code",
      "source": [
        "%reset -f\n",
        "#과제 1\n",
        "import pandas as pd\n",
        "\n",
        "dict_data = {'e': 5,\n",
        "             'd': 6,\n",
        "             'f': 7,\n",
        "             'g': 8}\n",
        "\n",
        "sr = pd.Series(dict_data)\n",
        "\n",
        "print(type(sr))\n",
        "print('\\n')\n",
        "print(sr)\n"
      ],
      "metadata": {
        "id": "rEV-JSUQHMHw",
        "colab": {
          "base_uri": "https://localhost:8080/"
        },
        "outputId": "36528085-8857-4089-eeb4-99f515d102e7"
      },
      "execution_count": 3,
      "outputs": [
        {
          "output_type": "stream",
          "name": "stdout",
          "text": [
            "<class 'pandas.core.series.Series'>\n",
            "\n",
            "\n",
            "e    5\n",
            "d    6\n",
            "f    7\n",
            "g    8\n",
            "dtype: int64\n"
          ]
        }
      ]
    },
    {
      "cell_type": "markdown",
      "source": [
        "2.아래와 같은 구조를 갖는 시리즈를 파이썬 리스트를 이용해 만들고 print 하는 code를 아래 셀에  작성한 후 실행하시오. 교안의 예제1-2 참고\n",
        "\n",
        "\n",
        "|||\n",
        "|-|-|\n",
        "|0|amy|\n",
        "|1|15|\n",
        "|2|cse|\n",
        "|3|3|"
      ],
      "metadata": {
        "id": "aeIHBDaXBjdY"
      }
    },
    {
      "cell_type": "code",
      "source": [
        "%reset -f\n",
        "#과제 2\n",
        "import pandas as pd\n",
        "\n",
        "list_data = ['amy', 15, 'cse', 3]\n",
        "sr = pd.Series(list_data)\n",
        "print(sr)\n"
      ],
      "metadata": {
        "id": "QvpuPIQHix-N",
        "colab": {
          "base_uri": "https://localhost:8080/"
        },
        "outputId": "33132565-b303-4d1c-92db-74c916b46431"
      },
      "execution_count": 4,
      "outputs": [
        {
          "output_type": "stream",
          "name": "stdout",
          "text": [
            "0    amy\n",
            "1     15\n",
            "2    cse\n",
            "3      3\n",
            "dtype: object\n"
          ]
        }
      ]
    },
    {
      "cell_type": "markdown",
      "source": [
        "3.아래와 같은 구조를 갖는 시리즈를   \n",
        "1) 파이썬 튜플과 index option을 이용하여 만들고 print 하는 code를 아래 셀에  작성한 후 실행하시오. 교안의 예제1-3 (1) 참고 \n",
        "\n",
        "|||\n",
        "|-|-|\n",
        "|이름|우석|\n",
        "|생년월일|2003-01-03|\n",
        "|성별|남|\n",
        "|학교|true|"
      ],
      "metadata": {
        "id": "9doVg-W9-6j_"
      }
    },
    {
      "cell_type": "code",
      "source": [
        "%reset -f\n",
        "#과제 3\n",
        "import pandas as pd\n",
        "\n",
        "tup_data = ('우석', '2003-01-03', '남', True)\n",
        "sr = pd.Series(tup_data, index=['이름', '생년월일', '남', '학교'])\n",
        "print(sr)\n"
      ],
      "metadata": {
        "id": "NPH_5r7DBi4L",
        "colab": {
          "base_uri": "https://localhost:8080/"
        },
        "outputId": "7b1966cb-e671-48b3-957f-ee650a1cc4c1"
      },
      "execution_count": 6,
      "outputs": [
        {
          "output_type": "stream",
          "name": "stdout",
          "text": [
            "이름              우석\n",
            "생년월일    2003-01-03\n",
            "남                남\n",
            "학교            True\n",
            "dtype: object\n"
          ]
        }
      ]
    },
    {
      "cell_type": "markdown",
      "source": [
        "4.아래와 같은 구조를 갖는 데이터 프레임을 딕셔너리를 이용하여  만들고 print 하는 code를 아래 셀에  작성한 후 실행하시오. 교안의 예제 1-4 참고\n",
        "\n",
        "\n",
        "||e1|e2|e3|\n",
        "|-|-|-|-|\n",
        "|0|1|2|3|\n",
        "|1|4|3|4|\n",
        "|2|5|3|2|"
      ],
      "metadata": {
        "id": "JenW-aaDix94"
      }
    },
    {
      "cell_type": "code",
      "source": [
        "%reset -f\n",
        "#과제 4\n",
        "\n",
        "# DataFrame\n",
        "# 데이터프레임의 각 열은 공통의 속성을 갖 는 일련의 데이터를 나타냄.\n",
        "# 같은 길이(원소의 개수가 동일한)의 배열 여러 개가 필요. 데이터프레임은 여러 개의 시리즈(열, column)를 모아 놓은 집합.\n",
        "# 여러 개의 리스트를 원소로 갖는 딕셔너리를 함수에 전달하는 방식을 주로 활용.\n",
        "\n",
        "import pandas as pd\n",
        "\n",
        "dict_data = {'e1': [1, 4, 5],\n",
        "             'e2': [2, 3, 3],\n",
        "             'e3': [3, 4, 2]}\n",
        "\n",
        "# 판다스 DataFrame() 람수로 딕셔너리를 데이터프레임으로 변환\n",
        "df = pd.DataFrame(dict_data)\n",
        "\n",
        "print(type(df))\n",
        "print('\\n')\n",
        "print(df)\n",
        "\n"
      ],
      "metadata": {
        "id": "1ySywsZfgztB"
      },
      "execution_count": null,
      "outputs": []
    },
    {
      "cell_type": "markdown",
      "source": [
        "5.아래와 같은 구조를 갖는 데이터 프레임을 리스트와 행 인덱스, 열 인덱스 지정방법으로  만들고 print 하는 code를 아래 셀에  작성한 후 실행하시오. 교안의 예제 1-5 참고\n",
        "\n",
        "\n",
        "||나이|성별|취미|\n",
        "|-|-|-|-|\n",
        "|우석|22|남|피아노|\n",
        "|나라|23|여|산책|\n"
      ],
      "metadata": {
        "id": "DAD6yskllzZd"
      }
    },
    {
      "cell_type": "code",
      "source": [
        "%reset -f\n",
        "#과제 5\n",
        "import pandas as pd\n",
        "\n",
        "# 행 인덱스, 열 이름 지정하여 데이터프레임 만들기.\n",
        "df = pd.DataFrame([[22, '남', '피아노'],\n",
        "                   [23, '여', '산책']],\n",
        "                  index=['우석', '나라'],\n",
        "                  columns=['나이', '성별', '취미'])\n",
        "\n",
        "print(df)\n"
      ],
      "metadata": {
        "id": "-7H36PCPlxus",
        "colab": {
          "base_uri": "https://localhost:8080/"
        },
        "outputId": "9cd8a985-5337-4398-e027-80f9a0f9487f"
      },
      "execution_count": 8,
      "outputs": [
        {
          "output_type": "stream",
          "name": "stdout",
          "text": [
            "    나이 성별   취미\n",
            "우석  22  남  피아노\n",
            "나라  23  여   산책\n"
          ]
        }
      ]
    },
    {
      "cell_type": "markdown",
      "source": [
        "6.행 인덱스/열 이름 설정  ( 교안 예제 1-5,1-6)  \n",
        "1) 아래와 같은 구조를 갖는 데이터 프레임을 리스트와 행 인덱스, 열 인덱스 지정방법으로  만들고 print 하고  \n",
        "\n",
        "||나이|학교|취미|\n",
        "|-|-|-|-|\n",
        "|우석|17|고등|피아노|\n",
        "|나라|14|중등|산책|\n",
        "\n",
        "2) 아래와 같은 구조를 가지도록 속성을 지정하여 변경하고 print\n",
        "\n",
        "||age|school|hobby|\n",
        "|-|-|-|-|\n",
        "|student1|17|고등|피아노|\n",
        "|student2|14|중등|산책|\n",
        "\n",
        "\n",
        "3) 다시 아래와 같은 구조를 가지도록 속성을 지정하여 변경하고 (원본 객체 변경) print \n",
        "\n",
        "||feat1|feat2|fest3|\n",
        "|-|-|-|-|\n",
        "|data1|17|고등|피아노|\n",
        "|data2|14|중등|산책|\n",
        "\n",
        "하는 code를 아래 cell에 작성하고 실행 하시오. "
      ],
      "metadata": {
        "id": "qZ4lTbXXmya5"
      }
    },
    {
      "cell_type": "code",
      "source": [
        "%reset -f\n",
        "#과제 6\n",
        "import pandas as pd\n",
        "\n",
        "df = pd.DataFrame([[17, '고등', '피아노'],\n",
        "                   [14, '중등', '산책']],\n",
        "                   index=['우석', '나라'],\n",
        "                   columns=['나이', '학교', '취미'])\n",
        "print(df)\n",
        "print(\"\\n-------------------\\n\")\n",
        "\n",
        "df.rename(columns={'나이': 'age',\n",
        "                   '학교': 'school',\n",
        "                   '취미': 'hobby'}, inplace=True)\n",
        "df.rename(index={'우석': 'student1',\n",
        "                 '나라': 'student2'}, inplace=True)\n",
        "print(df)\n",
        "print(\"\\n-------------------\\n\")\n",
        "\n",
        "df.rename(columns={'age': 'feat1',\n",
        "                   'school': 'feat2',\n",
        "                   'hobby': 'feat3'}, inplace=True)\n",
        "df.rename(index={'student1': 'data1',\n",
        "                 'student2': 'data2'}, inplace=True)\n",
        "print(df)"
      ],
      "metadata": {
        "id": "rW8kHhAIpY9p",
        "colab": {
          "base_uri": "https://localhost:8080/"
        },
        "outputId": "266e8180-1326-4763-d068-c1d8b5850052"
      },
      "execution_count": 12,
      "outputs": [
        {
          "output_type": "stream",
          "name": "stdout",
          "text": [
            "    나이  학교   취미\n",
            "우석  17  고등  피아노\n",
            "나라  14  중등   산책\n",
            "\n",
            "-------------------\n",
            "\n",
            "          age school hobby\n",
            "student1   17     고등   피아노\n",
            "student2   14     중등    산책\n",
            "\n",
            "-------------------\n",
            "\n",
            "       feat1 feat2 feat3\n",
            "data1     17    고등   피아노\n",
            "data2     14    중등    산책\n"
          ]
        }
      ]
    },
    {
      "cell_type": "markdown",
      "source": [
        "7.아래와 같은 구조를 갖는  데이터 프레임에서 \n",
        "1) 우석의 행을 삭제하고 print하는 code와  \n",
        "2) 나라와 민정의 행을 삭제하고 print 하는 code  \n",
        "3) 나이의 열를 삭제하고 print하는 code와  \n",
        "4) 구분과 학교의 열을 데이터를 삭제하고 print 하는 code를 아래 cell에 작성 하고 실행 하시오. (교안 1-7,1-8 참조)\n",
        "\n",
        "||나이|구분|취미|학교 |\n",
        "|-|-|-|-|-|\n",
        "|우석|17|고등|독서|선경|\n",
        "|인아|14|중등|산책|한국|\n",
        "|나라|12|초등|축구|우성|\n",
        "|민정|19|고등|독서|효성|\n",
        "|서준|15|중등|농구|상성|\n"
      ],
      "metadata": {
        "id": "TSeBK_DXrS42"
      }
    },
    {
      "cell_type": "code",
      "source": [
        "%reset -f\n",
        "#과제 7\n",
        "\n",
        "# 행 삭제: DataFrame 객체.drop(행 인덱스 또는 배열, axis=0)\n",
        "# 열 삭제: DataFrame 객체.drop(열 이름 또는 배열, axis=1)\n",
        "\n",
        "import pandas as pd\n",
        "student_data = {'나이': [17,14,12,19,15], \n",
        "                '구분':['고등','중등','초등','고등','중등'], \n",
        "                '취미':['독서','산책','축구', '독서','농구'], \n",
        "                '학교':['선경','한국','우성','효성','상성'] }    \n",
        "df=pd.DataFrame(student_data,index=['우석', '인아', '나라', '민정', '서준'])\n",
        "print('df: \\n', df)\n",
        "print('\\n-----------------\\n')\n",
        "\n",
        "df1=df[:]\n",
        "# 1) 우석의 행을 삭제\n",
        "df1.drop('우석', axis=0, inplace=True)\n",
        "print('df1: \\n', df1)\n",
        "print('\\n-----------------\\n')\n",
        "\n",
        "df2=df[:]\n",
        "# 2) 나라와 민정의 행을 삭제\n",
        "df2.drop(['나라', '민정'], axis=0, inplace=True)\n",
        "print('df2: \\n', df2)\n",
        "print('\\n-----------------\\n')\n",
        "\n",
        "df3=df[:]\n",
        "# 3) 나이의 열을 삭제\n",
        "df3.drop('나이', axis=1, inplace=True)\n",
        "print('df3: \\n', df3)\n",
        "print('\\n-----------------\\n')\n",
        "\n",
        "df4=df[:]\n",
        "# 4) 구분과 학교의 열을 삭제\n",
        "df4.drop(['구분', '학교'], axis=1, inplace=True)\n",
        "print('df4: \\n', df4)\n",
        "print('\\n-----------------\\n')\n",
        "\n",
        "\n",
        "\n"
      ],
      "metadata": {
        "id": "rVueVatHppCI",
        "colab": {
          "base_uri": "https://localhost:8080/"
        },
        "outputId": "968c8733-8d3e-4897-c026-21857d575089"
      },
      "execution_count": 19,
      "outputs": [
        {
          "output_type": "stream",
          "name": "stdout",
          "text": [
            "df: \n",
            "     나이  구분  취미  학교\n",
            "우석  17  고등  독서  선경\n",
            "인아  14  중등  산책  한국\n",
            "나라  12  초등  축구  우성\n",
            "민정  19  고등  독서  효성\n",
            "서준  15  중등  농구  상성\n",
            "\n",
            "-----------------\n",
            "\n",
            "df1: \n",
            "     나이  구분  취미  학교\n",
            "인아  14  중등  산책  한국\n",
            "나라  12  초등  축구  우성\n",
            "민정  19  고등  독서  효성\n",
            "서준  15  중등  농구  상성\n",
            "\n",
            "-----------------\n",
            "\n",
            "df2: \n",
            "     나이  구분  취미  학교\n",
            "우석  17  고등  독서  선경\n",
            "인아  14  중등  산책  한국\n",
            "서준  15  중등  농구  상성\n",
            "\n",
            "-----------------\n",
            "\n",
            "df3: \n",
            "     구분  취미  학교\n",
            "우석  고등  독서  선경\n",
            "인아  중등  산책  한국\n",
            "나라  초등  축구  우성\n",
            "민정  고등  독서  효성\n",
            "서준  중등  농구  상성\n",
            "\n",
            "-----------------\n",
            "\n",
            "df4: \n",
            "     나이  취미\n",
            "우석  17  독서\n",
            "인아  14  산책\n",
            "나라  12  축구\n",
            "민정  19  독서\n",
            "서준  15  농구\n",
            "\n",
            "-----------------\n",
            "\n"
          ]
        },
        {
          "output_type": "stream",
          "name": "stderr",
          "text": [
            "/usr/local/lib/python3.7/dist-packages/pandas/core/frame.py:4913: SettingWithCopyWarning: \n",
            "A value is trying to be set on a copy of a slice from a DataFrame\n",
            "\n",
            "See the caveats in the documentation: https://pandas.pydata.org/pandas-docs/stable/user_guide/indexing.html#returning-a-view-versus-a-copy\n",
            "  errors=errors,\n",
            "/usr/local/lib/python3.7/dist-packages/pandas/core/frame.py:4913: SettingWithCopyWarning: \n",
            "A value is trying to be set on a copy of a slice from a DataFrame\n",
            "\n",
            "See the caveats in the documentation: https://pandas.pydata.org/pandas-docs/stable/user_guide/indexing.html#returning-a-view-versus-a-copy\n",
            "  errors=errors,\n",
            "/usr/local/lib/python3.7/dist-packages/pandas/core/frame.py:4913: SettingWithCopyWarning: \n",
            "A value is trying to be set on a copy of a slice from a DataFrame\n",
            "\n",
            "See the caveats in the documentation: https://pandas.pydata.org/pandas-docs/stable/user_guide/indexing.html#returning-a-view-versus-a-copy\n",
            "  errors=errors,\n",
            "/usr/local/lib/python3.7/dist-packages/pandas/core/frame.py:4913: SettingWithCopyWarning: \n",
            "A value is trying to be set on a copy of a slice from a DataFrame\n",
            "\n",
            "See the caveats in the documentation: https://pandas.pydata.org/pandas-docs/stable/user_guide/indexing.html#returning-a-view-versus-a-copy\n",
            "  errors=errors,\n"
          ]
        }
      ]
    },
    {
      "cell_type": "markdown",
      "source": [
        "8.아래와 같은 구조를 갖는  데이터 프레임에서  \n",
        "1) 인아의 행을 선택하고 print하는 code를 loc을 이용한 방법 iloc 을 아용한 방법으로   \n",
        "2) 나라와 민정의 행을 선택하고 print하는 code를 loc을 이용한 방법 iloc 을 아용한 방법으로  \n",
        "3) 취미와 학교 열을 선택 하고 print하는 code  \n",
        "를 아래셀에 작성 하고 실행 하시오. (예제  1-9,1-10)\n",
        "\n",
        "\n",
        "||나이|구분|취미|학교 |\n",
        "|-|-|-|-|-|\n",
        "|우석|17|고등|독서|선경|\n",
        "|인아|14|중등|산책|한국|\n",
        "|나라|12|초등|축구|우성|\n",
        "|민정|19|고등|독서|효성|\n",
        "|서준|15|중등|농구|상성|\n"
      ],
      "metadata": {
        "id": "RvHETXaewKjs"
      }
    },
    {
      "cell_type": "code",
      "source": [
        "%reset -f\n",
        "#과제 8\n",
        "\n",
        "# 인덱스 이름을 기준으로 행을 선택할 때는 loc,\n",
        "# 정수형 위치 인덱스를 사용할 때는 iloc를 이용.\n",
        "\n",
        "import pandas as pd\n",
        "student_data = {'나이': [17,14,12,19,15], \n",
        "                '구분':['고등','중등','초등','고등','중등'], \n",
        "                '취미':['독서','산책','축구', '독서','농구'], \n",
        "                '학교':['선경','한국','우성','효성','상성'] }    \n",
        "df=pd.DataFrame(student_data,index=['우석', '인아', '나라', '민정', '서준'])\n",
        "print('df: \\n', df.loc['우석','구분'])\n",
        "print('\\n')\n",
        "\n",
        "\n",
        "\n",
        "# 1) 인아의 행을 선택\n",
        "# 1-1) loc 이용 방법\n",
        "label_ina = df.loc['인아']\n",
        "print('loc를 이용한 인아의 행 선택: \\n', label_ina)\n",
        "print('\\n')\n",
        "\n",
        "# 1-2) iloc 이용 방법\n",
        "position_ina = df.iloc[1]\n",
        "print('iloc를 이용한 인아의 행 선택: \\n', position_ina)\n",
        "\n",
        "print('\\n-------------------------------------------\\n')\n",
        "\n",
        "\n",
        "\n",
        "# 2) 나라와 민정의 행을 선택\n",
        "# 2-1) loc 이용 방법\n",
        "\n",
        "label_2 = df.loc[['나라', '민정']]\n",
        "print('loc를 이용한 나라와 민정의 행: \\n', label_2)\n",
        "print('\\n')\n",
        "\n",
        "# 2-2) iloc 이용 방법\n",
        "position_2 = df.iloc[[3, 4]]\n",
        "print('iloc를 이용한 나라와 민정의 행: \\n', position_2)\n",
        "\n",
        "print('\\n-------------------------------------------\\n')\n",
        "\n",
        "\n",
        "\n",
        "# 3) 취미와 학교 열을 선택\n",
        "# 열 1개 선택(시리즈 생성): DataFrame 객체[\"열 이름\"] 또는 DataFrame 객체.열 이름\n",
        "hobby_school = df[['취미', '학교']]\n",
        "print(hobby_school)\n",
        "\n",
        "\n"
      ],
      "metadata": {
        "colab": {
          "base_uri": "https://localhost:8080/"
        },
        "id": "lbACuFlgxpDS",
        "outputId": "59170ab5-6d75-413c-cac4-b23a428d5af8"
      },
      "execution_count": 23,
      "outputs": [
        {
          "output_type": "stream",
          "name": "stdout",
          "text": [
            "df: \n",
            " 고등\n",
            "\n",
            "\n",
            "loc를 이용한 인아의 행 선택: \n",
            " 나이    14\n",
            "구분    중등\n",
            "취미    산책\n",
            "학교    한국\n",
            "Name: 인아, dtype: object\n",
            "\n",
            "\n",
            "iloc를 이용한 인아의 행 선택: \n",
            " 나이    14\n",
            "구분    중등\n",
            "취미    산책\n",
            "학교    한국\n",
            "Name: 인아, dtype: object\n",
            "\n",
            "-------------------------------------------\n",
            "\n",
            "loc를 이용한 나라와 민정의 행: \n",
            "     나이  구분  취미  학교\n",
            "나라  12  초등  축구  우성\n",
            "민정  19  고등  독서  효성\n",
            "\n",
            "\n",
            "iloc를 이용한 나라와 민정의 행: \n",
            "     나이  구분  취미  학교\n",
            "민정  19  고등  독서  효성\n",
            "서준  15  중등  농구  상성\n",
            "\n",
            "-------------------------------------------\n",
            "\n",
            "    취미  학교\n",
            "우석  독서  선경\n",
            "인아  산책  한국\n",
            "나라  축구  우성\n",
            "민정  독서  효성\n",
            "서준  농구  상성\n"
          ]
        }
      ]
    },
    {
      "cell_type": "markdown",
      "source": [
        "9.아래와 같은 구조를 갖는  데이터 프레임에서  \n",
        "1) 인아의 취미를 선택 하고 print하는  code를 loc과 iloc을 이용하여 작성  \n",
        "2) 나라와 민정의 취미와 학교를 선택하고 print하는 code를 loc과 iloc을 이용하여 아래 cell에 작성하고 실행 하시오.  (예제 1-11)\n",
        "\n",
        "||나이|구분|취미|학교 |\n",
        "|-|-|-|-|-|\n",
        "|우석|17|고등|독서|선경|\n",
        "|인아|14|중등|산책|한국|\n",
        "|나라|12|초등|축구|우성|\n",
        "|민정|19|고등|독서|효성|\n",
        "|서준|15|중등|농구|상성|\n"
      ],
      "metadata": {
        "id": "aXfWI8vByR2M"
      }
    },
    {
      "cell_type": "code",
      "source": [
        "%reset -f\n",
        "#과제 9\n",
        "import pandas as pd\n",
        "student_data = {'나이': [17,14,12,19,15],\n",
        "                '구분':['고등','중등','초등','고등','중등'], \n",
        "                '취미':['독서','산책','축구', '독서','농구'], \n",
        "                '학교':['선경','한국','우성','효성','상성'] }    \n",
        "df=pd.DataFrame(student_data,index=['우석', '인아', '나라', '민정', '서준'])\n",
        "print(df)\n",
        "print('\\n')\n",
        "\n",
        "\n",
        "\n",
        "# 1) 인아의 취미를 선택\n",
        "# 1-1) loc를 이용한 방법\n",
        "loc_1 = df.loc['인아', '취미']\n",
        "print('loc를 이용한 인아의 취미: \\n', loc_1)\n",
        "print('\\n')\n",
        "\n",
        "# 1-2) iloc를 이용한 방법\n",
        "iloc_1 = df.iloc[1, 2]\n",
        "print('iloc를 이용한 인아의 취미: \\n', iloc_1)\n",
        "print('\\n-------------------------------------\\n')\n",
        "\n",
        "\n",
        "# 2) 나라와 민정의 취미와 학교를 선택\n",
        "# 2-1) loc를 이용한 방법\n",
        "loc_2 = df.loc[['나라', '민정'], ['취미', '학교']]\n",
        "print('loc를 이용한 나라와 민정의 취미와 학교: \\n', loc_2)\n",
        "print('\\n')\n",
        "\n",
        "\n",
        "# 2-2) iloc를 이용한 방법\n",
        "iloc_2 = df.iloc[[2, 3], [2, 3]]\n",
        "print('iloc를 이용한 나라와 민정의 취미와 학교: \\n', iloc_2)\n",
        "print('\\n')"
      ],
      "metadata": {
        "id": "8mLXAgpty72X",
        "colab": {
          "base_uri": "https://localhost:8080/"
        },
        "outputId": "8d787b06-21e8-494a-f96d-fce21e95c536"
      },
      "execution_count": 28,
      "outputs": [
        {
          "output_type": "stream",
          "name": "stdout",
          "text": [
            "    나이  구분  취미  학교\n",
            "우석  17  고등  독서  선경\n",
            "인아  14  중등  산책  한국\n",
            "나라  12  초등  축구  우성\n",
            "민정  19  고등  독서  효성\n",
            "서준  15  중등  농구  상성\n",
            "\n",
            "\n",
            "loc를 이용한 인아의 취미: \n",
            " 산책\n",
            "\n",
            "\n",
            "iloc를 이용한 인아의 취미: \n",
            " 산책\n",
            "\n",
            "-------------------------------------\n",
            "\n",
            "loc를 이용한 나라와 민정의 취미와 학교: \n",
            "     취미  학교\n",
            "나라  축구  우성\n",
            "민정  독서  효성\n",
            "\n",
            "\n",
            "iloc를 이용한 나라와 민정의 취미와 학교: \n",
            "     취미  학교\n",
            "나라  축구  우성\n",
            "민정  독서  효성\n",
            "\n",
            "\n"
          ]
        }
      ]
    },
    {
      "cell_type": "markdown",
      "source": [
        "10.아래와 같은 구조를 갖는  데이터 프레임에서  \n",
        "1) '영어'  열을 추가 하고 모든 값을 90점으로 입력하고 print  code를 작성 하시오.  \n",
        "2) '영진'  행을 추가 하고 값을 18, 고등, 배구, 선경,90 으로 입력하고 print code를   \n",
        "3)  나라의 취미와 학교를 농구, 선경으로 변경하고 print하는 code를 \n",
        "작성 하고 실행하시오. (예제 1-12, 1-13,1-14)\n",
        "\n",
        "||나이|구분|취미|학교 |\n",
        "|-|-|-|-|-|\n",
        "|우석|17|고등|독서|선경|\n",
        "|인아|14|중등|산책|한국|\n",
        "|나라|12|초등|축구|우성|\n",
        "|민정|19|고등|독서|효성|\n",
        "|서준|15|중등|농구|상성|"
      ],
      "metadata": {
        "id": "hoJ_EOjszH-U"
      }
    },
    {
      "cell_type": "code",
      "source": [
        "%reset -f\n",
        "#과제 10\n",
        "import pandas as pd\n",
        "student_data = {'이름':['우석', '인아', '나라', '민정', '서준'],\n",
        "                '나이': [17,14,12,19,15], \n",
        "                '구분':['고등','중등','초등','고등','중등'], \n",
        "                '취미':['독서','산책','축구', '독서','농구'], \n",
        "                '학교':['선경','한국','우성','효성','상성'] }    \n",
        "df=pd.DataFrame(student_data)\n",
        "\n",
        "# '이름' 열을 새로운 인덱스로 지정하고, df 객체에 변경사항 반영\n",
        "df.set_index('이름', inplace=True)\n",
        "\n",
        "print(df)\n",
        "print('\\n-------------------------------------\\n')\n",
        "\n",
        "\n",
        "# 1) '영어' 열을 추가 하고 모든 값을 90점으로 입력한다.\n",
        "df['영어'] = 90\n",
        "print('영어 열을 추가하고 모든 값을 90점으로 입력: \\n', df)\n",
        "print('\\n-------------------------------------\\n')\n",
        "\n",
        "\n",
        "# 2) '영진' 행을 추가하고 값을 18, 고등, 배구, 선경, 90 으로 입력\n",
        "df.loc['영진'] = [18, '고등', '배구', '선경', 90]\n",
        "print('영진 행을 추가하고 값을 18, 고등, 배구, 선경, 90으로 입력: \\n', df)\n",
        "print('\\n-------------------------------------\\n')\n",
        "\n",
        "# 3) 나라의 취미와 학교를 농구, 선경으로 변경\n",
        "# 3-1) loc를 이용한 방법\n",
        "# df['나라']['취미'] = '농구'\n",
        "# df['나라']['학교'] = '선경'\n",
        "df.loc['나라', ['취미', '학교']] = ['농구', '선경']\n",
        "print('loc를 이용해 나라의 취미와 학교를 농구, 선경으로 변경: \\n', df)\n",
        "print('\\n')\n",
        "\n",
        "# 3-2) iloc를 이용한 방법\n",
        "df.iloc[2, [2, 3]] = ['농구', '선경']\n",
        "print('iloc를 이용해 나라의 취미와 학교를 농구, 선경으로 변경: \\n', df)\n",
        "print('\\n-------------------------------------\\n')"
      ],
      "metadata": {
        "id": "uLd_EQQ50GZQ",
        "colab": {
          "base_uri": "https://localhost:8080/"
        },
        "outputId": "37c8cfad-904f-4260-bd63-deeda3dae9b7"
      },
      "execution_count": 38,
      "outputs": [
        {
          "output_type": "stream",
          "name": "stdout",
          "text": [
            "    나이  구분  취미  학교\n",
            "이름                \n",
            "우석  17  고등  독서  선경\n",
            "인아  14  중등  산책  한국\n",
            "나라  12  초등  축구  우성\n",
            "민정  19  고등  독서  효성\n",
            "서준  15  중등  농구  상성\n",
            "\n",
            "-------------------------------------\n",
            "\n",
            "영어 열을 추가하고 모든 값을 90점으로 입력: \n",
            "     나이  구분  취미  학교  영어\n",
            "이름                    \n",
            "우석  17  고등  독서  선경  90\n",
            "인아  14  중등  산책  한국  90\n",
            "나라  12  초등  축구  우성  90\n",
            "민정  19  고등  독서  효성  90\n",
            "서준  15  중등  농구  상성  90\n",
            "\n",
            "-------------------------------------\n",
            "\n",
            "영진 행을 추가하고 값을 18, 고등, 배구, 선경, 90으로 입력: \n",
            "     나이  구분  취미  학교  영어\n",
            "이름                    \n",
            "우석  17  고등  독서  선경  90\n",
            "인아  14  중등  산책  한국  90\n",
            "나라  12  초등  축구  우성  90\n",
            "민정  19  고등  독서  효성  90\n",
            "서준  15  중등  농구  상성  90\n",
            "영진  18  고등  배구  선경  90\n",
            "\n",
            "-------------------------------------\n",
            "\n",
            "loc를 이용해 나라의 취미와 학교를 농구, 선경으로 변경: \n",
            "     나이  구분  취미  학교  영어\n",
            "이름                    \n",
            "우석  17  고등  독서  선경  90\n",
            "인아  14  중등  산책  한국  90\n",
            "나라  12  초등  농구  선경  90\n",
            "민정  19  고등  독서  효성  90\n",
            "서준  15  중등  농구  상성  90\n",
            "영진  18  고등  배구  선경  90\n",
            "\n",
            "\n",
            "loc를 이용해 나라의 취미와 학교를 농구, 선경으로 변경: \n",
            "     나이  구분  취미  학교  영어\n",
            "이름                    \n",
            "우석  17  고등  독서  선경  90\n",
            "인아  14  중등  산책  한국  90\n",
            "나라  12  초등  농구  선경  90\n",
            "민정  19  고등  독서  효성  90\n",
            "서준  15  중등  농구  상성  90\n",
            "영진  18  고등  배구  선경  90\n",
            "\n",
            "-------------------------------------\n",
            "\n"
          ]
        }
      ]
    },
    {
      "cell_type": "markdown",
      "source": [
        "11.아래와 같은 구조를 갖는 데이터 프레임에서  \n",
        "1) '이름' 열을 행 index로 지정하고   \n",
        "2) 행 index 기준으로 sorting(오름 차순) 하고 print하는 code를 작성하시오.     \n",
        " (예제 1-17~19)\n",
        "\n",
        "|이름|나이|구분|취미|학교 |\n",
        "|-|-|-|-|-|\n",
        "|우석|17|고등|독서|선경|\n",
        "|인아|14|중등|산책|한국|\n",
        "|나라|12|초등|축구|우성|\n",
        "|민정|19|고등|독서|효성|\n",
        "|서준|15|중등|농구|상성|"
      ],
      "metadata": {
        "id": "05z4YL0V4VdG"
      }
    },
    {
      "cell_type": "code",
      "source": [
        "%reset -f\n",
        "#과제 11\n",
        "\n",
        "# 새로운 배열로 행 인덱스를 재지정: DataFrame 객체.reindex(새로운 인덱스 배열)\n",
        "# sort_index() 메소드로 행 인덱스를 기준으로 정렬.\n",
        "# ascending 옵션을 사용하여 오름차순 또는 내림차순으로 설정.\n",
        "\n",
        "import pandas as pd\n",
        "student_data = {'이름':['우석', '인아', '나라', '민정', '서준'],\n",
        "                '나이': [17,14,12,19,15], \n",
        "                '구분':['고등','중등','초등','고등','중등'], \n",
        "                '취미':['독서','산책','축구', '독서','농구'], \n",
        "                '학교':['선경','한국','우성','효성','상성'] }    \n",
        "df=pd.DataFrame(student_data)\n",
        "\n",
        "# 1) '이름' 열을 행 index로 지정\n",
        "df = pd.DataFrame(student_data, index=student_data['이름'])\n",
        "\n",
        "# '이름' 열 삭제\n",
        "df.drop('이름', axis=1, inplace=True)\n",
        "print(\"'이름' 열을 행 index로 지정: \\n\", df)\n",
        "\n",
        "print(\"\\n---------------------------------------'\\n\")\n",
        "\n",
        "# 2) 행 index 기준으로 sorting(오름 차순) 정렬\n",
        "df = df.sort_index(ascending=False)\n",
        "print('행 index 기준으로 sorting(오름 차순) 정렬: \\n', df)"
      ],
      "metadata": {
        "id": "FlzSQmdE4-ww",
        "colab": {
          "base_uri": "https://localhost:8080/"
        },
        "outputId": "1a92a768-e94b-4cc8-e87e-f5de4343d757"
      },
      "execution_count": 46,
      "outputs": [
        {
          "output_type": "stream",
          "name": "stdout",
          "text": [
            "'이름' 열을 행 index로 지정: \n",
            "     나이  구분  취미  학교\n",
            "우석  17  고등  독서  선경\n",
            "인아  14  중등  산책  한국\n",
            "나라  12  초등  축구  우성\n",
            "민정  19  고등  독서  효성\n",
            "서준  15  중등  농구  상성\n",
            "\n",
            "---------------------------------------'\n",
            "\n",
            "행 index 기준으로 sorting(오름 차순) 정렬: \n",
            "     나이  구분  취미  학교\n",
            "인아  14  중등  산책  한국\n",
            "우석  17  고등  독서  선경\n",
            "서준  15  중등  농구  상성\n",
            "민정  19  고등  독서  효성\n",
            "나라  12  초등  축구  우성\n"
          ]
        }
      ]
    },
    {
      "cell_type": "markdown",
      "source": [
        "12.(선택) 과제에 upload되어 있는 Case.csv   \n",
        "1) 파일을 읽어 데이터 프레임에 저장하고    \n",
        "2) 'city' 열을 삭제하고     \n",
        "3) 'country' 열을 추가 하여 모든 값을 'korea'로 정하고  \n",
        "10) 'case2.csv' 파일로 저장 하는 code를   \n",
        "아래 cell에 작성하고 실행 하시오.   "
      ],
      "metadata": {
        "id": "FiJnBwWP618E"
      }
    },
    {
      "cell_type": "code",
      "source": [
        "%reset -f\n",
        "#과제 12\n",
        "import pandas as pd\n",
        "\n",
        "# csv 파일 읽기\n",
        "# pandas.read_csv(\"파일 경로(이름)\")\n",
        "\n",
        "\n",
        "# 1) 파일을 읽어 데이터 프레임에 저장\n",
        "df = pd.read_csv('/content/Case.csv')\n",
        "\n",
        "# 2) 'city' 열 삭제\n",
        "df.drop('city', axis=1, inplace=True)\n",
        "\n",
        "# 3) 'country' 열 추가 (모든 값은 'korea')\n",
        "df['country'] = 'korea'\n",
        "print(df)\n",
        "\n",
        "# 4) case2.csv 파일로 저장\n",
        "df.to_csv(\"/content/Case2.csv\")"
      ],
      "metadata": {
        "id": "pA-G-oUn8vzj",
        "colab": {
          "base_uri": "https://localhost:8080/"
        },
        "outputId": "c6c3c638-8a80-462f-c91f-22af91281eeb"
      },
      "execution_count": 54,
      "outputs": [
        {
          "output_type": "stream",
          "name": "stdout",
          "text": [
            "     case_id          province  group                 infection_case  \\\n",
            "0    1000001             Seoul   True            Guro-gu Call Center   \n",
            "1    1000002             Seoul   True                  Dongan Church   \n",
            "2    1000003             Seoul   True          Manmin Central Church   \n",
            "3    1000004             Seoul   True  Eunpyeong St. Mary's Hospital   \n",
            "4    1000005             Seoul   True               Seongdong-gu APT   \n",
            "..       ...               ...    ...                            ...   \n",
            "97   6100007  Gyeongsangnam-do  False                overseas inflow   \n",
            "98   6100008  Gyeongsangnam-do  False           contact with patient   \n",
            "99   6100009  Gyeongsangnam-do  False                            etc   \n",
            "100  7000001           Jeju-do  False                overseas inflow   \n",
            "101  7000002           Jeju-do  False                            etc   \n",
            "\n",
            "     confirmed   latitude   longitude country  \n",
            "0           96  37.508163  126.884387   korea  \n",
            "1           20  37.592888  127.056766   korea  \n",
            "2           20  37.481059  126.894343   korea  \n",
            "3           14   37.63369    126.9165   korea  \n",
            "4           13   37.55713    127.0403   korea  \n",
            "..         ...        ...         ...     ...  \n",
            "97           6          -           -   korea  \n",
            "98           5          -           -   korea  \n",
            "99          17          -           -   korea  \n",
            "100          5          -           -   korea  \n",
            "101          4          -           -   korea  \n",
            "\n",
            "[102 rows x 8 columns]\n"
          ]
        }
      ]
    }
  ]
}