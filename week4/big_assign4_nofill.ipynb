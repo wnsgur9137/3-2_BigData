{
  "nbformat": 4,
  "nbformat_minor": 0,
  "metadata": {
    "colab": {
      "provenance": [],
      "collapsed_sections": []
    },
    "kernelspec": {
      "name": "python3",
      "display_name": "Python 3"
    },
    "language_info": {
      "name": "python"
    }
  },
  "cells": [
    {
      "cell_type": "markdown",
      "source": [
        "1.아래와 같은 구조를 갖는  데이터 프레임에서    (원본 객체 변경: iplace=True)  \n",
        "1) 이름을 index로 설정하고  \n",
        "2) '취미' 열을 삭제 하고    \n",
        "3) '나라' 행을 삭제 하고    \n",
        "4) '지민' 행을 이름 인덱스를 이용하여  추가 하여  '16, 중등, 효성'    데이터를 저장하고  \n",
        "5) column 이름 '학교'를 '교명'으로 바꾸고  \n",
        "6) 우석과 인아의 교명을 선경1, 한국1로 변경하고  \n",
        "7) 나이 기준 어린  순으로 행을 정렬 한 후  \n",
        "8) '국적'열을 추가 한 후 모두 '한국' 으로 저장 한 후  \n",
        "9) print하는 code를 작성 하시오  \n",
        "\n",
        "\n",
        "|이름|나이|구분|취미|학교 |\n",
        "|-|-|-|-|-|\n",
        "|우석|17|고등|독서|선경|\n",
        "|인아|14|중등|산책|한국|\n",
        "|나라|12|초등|축구|우성|\n",
        "|민정|19|고등|독서|효성|\n",
        "|서준|15|중등|농구|상성|\n"
      ],
      "metadata": {
        "id": "8o7-zj89WL_z"
      }
    },
    {
      "cell_type": "code",
      "source": [
        "%reset -f\n",
        "#과제 1\n",
        "import pandas as pd\n",
        "student_data = {'이름':['우석', '인아', '나라', '민정', '서준'],\n",
        "                '나이': [17,14,12,19,15], \n",
        "                '구분':['고등','중등','초등','고등','중등'], \n",
        "                '취미':['독서','산책','축구', '독서','농구'], \n",
        "                '학교':['선경','한국','우성','효성','상성'] }    \n"
      ],
      "metadata": {
        "id": "rEV-JSUQHMHw"
      },
      "execution_count": null,
      "outputs": []
    },
    {
      "cell_type": "markdown",
      "source": [
        "2.아래와 같은 구조를 갖는  데이터 프레임에서    (원본 객체 변경: iplace=True)  \n",
        "1) '인문' 열을 추가 하여 영어와 국어 성적의 합계를 저장하고  \n",
        "2) '과학' 열을 추가 하여 물리와 화학 성적의 합계를 저장하고  \n",
        "3)  과학 성적으로 내림 차순으로 정렬하고  \n",
        "4) print하는 code를 작성하시오.   \n",
        "\n",
        "\n",
        "|이름|국어|영어|물리|화학|\n",
        "|-|-|-|-|-|\n",
        "|우석|90|85|70|50|\n",
        "|인아|80|90|80|70|\n",
        "|나라|75|85|80|90|\n",
        "|민정|90|95|90|100|\n"
      ],
      "metadata": {
        "id": "aeIHBDaXBjdY"
      }
    },
    {
      "cell_type": "code",
      "source": [
        "%reset -f\n",
        "#과제 2\n",
        "import pandas as pd\n",
        "student_data = {'이름':['우석', '인아', '나라', '민정'],\n",
        "                '국어':[90,80,75,90], \n",
        "                '영어':[85,90,85,95], \n",
        "                '물리':[70,80,80,90], \n",
        "                '화학':[50,70,90,100] }    \n",
        "df=pd.DataFrame(student_data)\n",
        "print(df)\n",
        "\n",
        "\n"
      ],
      "metadata": {
        "id": "QvpuPIQHix-N"
      },
      "execution_count": null,
      "outputs": []
    },
    {
      "cell_type": "markdown",
      "source": [
        "3.1) iris3.csv 파일을 읽고 (첫번째 행을 column 이름으로)  \n",
        "2) column 이름을 'feat1','feat2','feat3','feat4','name'으로 변경하고  \n",
        "3) 처음 3개 행을 print하고  \n",
        "4) 요약 정보를 print하고  \n",
        "5) 통계 정보를 print하고  \n",
        "6) 각 열 데이터의 고유값 개수를 print하고  \n",
        "7) 'feat2' 열의 최대값 print  \n",
        "8) 'feat4' 열의 표준 편차 print   \n",
        "9) 'feat1'과 'feat3'의 상관계수를 출력하는 코드를 작성 하시오.   "
      ],
      "metadata": {
        "id": "zzqNIdeZEGNk"
      }
    },
    {
      "cell_type": "code",
      "source": [
        "%reset -f\n",
        "#과제 3\n",
        "import pandas as pd\n",
        "\n"
      ],
      "metadata": {
        "id": "NPH_5r7DBi4L"
      },
      "execution_count": null,
      "outputs": []
    },
    {
      "cell_type": "markdown",
      "source": [
        "4.code에서 정의한 데이터에서   \n",
        "1) 하나라도 NaN이 있는 행은 삭제하고 print하는 code  (df1에 저장 후 print)    \n",
        "2) 모든 값이  NaN인  행을 삭제하고 print하는 code  (df2에 저장 후 print)   \n",
        "3) NaN이 포함된 행을 삭제할때 데이터가 4개 이상 있어야 남기도록 하고  (df3)   print하는 code를 작성 하시오 "
      ],
      "metadata": {
        "id": "JenW-aaDix94"
      }
    },
    {
      "cell_type": "code",
      "source": [
        "%reset -f\n",
        "#과제 4\n",
        "import pandas as pd\n",
        "\n",
        "import numpy as np\n",
        "\n",
        "raw_data = {'name': ['Jason', np.nan, 'Tina', 'Jake', 'Amy'], \n",
        "            'age': [42, np.nan, 36, np.nan, 73], \n",
        "            'math': [4, np.nan, np.nan, 2, 3],\n",
        "            'physics': [25, np.nan, np.nan, 62, 70],\n",
        "             'korean': [25, np.nan, np.nan, 62, 70]}\n",
        "\n",
        "df = pd.DataFrame(raw_data)\n",
        "print(df)\n",
        "df1=df[:]\n",
        "\n",
        "\n",
        "df2=df[:]\n",
        "\n",
        "\n",
        "\n",
        "df3=df[:]\n"
      ],
      "metadata": {
        "id": "1ySywsZfgztB"
      },
      "execution_count": null,
      "outputs": []
    },
    {
      "cell_type": "markdown",
      "source": [
        "5.1) 'exam1.csv'파일을 읽고 (첫번째 행이 열이름이 되도록)   \n",
        "2) english의 결측치는 0으로 치환하고     \n",
        "3) math의 결측치는 math의 평균 값으로 치환하고   \n",
        "4) nclass의 결측치는 앞에 값으로 치환하고  \n",
        "5) print하는 code를 작성하시오  \n",
        "(inplace=True 사용)  \n",
        "\n",
        "\n",
        "\n"
      ],
      "metadata": {
        "id": "DAD6yskllzZd"
      }
    },
    {
      "cell_type": "code",
      "source": [
        "%reset -f\n",
        "#과제 5\n",
        "import pandas as pd\n"
      ],
      "metadata": {
        "id": "-7H36PCPlxus"
      },
      "execution_count": null,
      "outputs": []
    },
    {
      "cell_type": "markdown",
      "source": [
        "6.아래 code에서 정의하는 데이터 프레임에서    \n",
        "1) 중복 행을 제거 하고 print하는 code(df1)  \n",
        "2) c1,c3을 기준으로 중복행을 제거 하고 print하는 code(df2)  \n",
        "를 작성 하시오. \n"
      ],
      "metadata": {
        "id": "qZ4lTbXXmya5"
      }
    },
    {
      "cell_type": "code",
      "source": [
        "%reset -f\n",
        "#과제 6\n",
        "import pandas as pd\n",
        "\n",
        "df=pd.DataFrame({'c1':['a','a','b','a','b'],\n",
        "                 'c2':[2,1,2,1,2],\n",
        "                 'c3':[1,1,2,2,2]})\n",
        "print(df)\n"
      ],
      "metadata": {
        "id": "rW8kHhAIpY9p"
      },
      "execution_count": null,
      "outputs": []
    },
    {
      "cell_type": "markdown",
      "source": [
        "7.1) wine1.cse 파일을 읽고 (첫행부터 데이터로 읽음)  \n",
        "2) column 이름을 'country', 'year','feat1','fest2','fest3','feat4'로 지정하고  \n",
        "3) country의 누락 데이터는 france로 저장하고  \n",
        "4) feat1, feat2, feat3, feat4의 누락 데이터는 각 열의 평균으로 저장하고  \n",
        "5) 'country','year' 기준으로 중복데이터를 제거 하고  \n",
        "6) 'feat1-2' 열을 추가 하여 feat1과 feat2의 핪의 값을 저장하고  \n",
        "7) 'year'를 기준으로 오름 차순으로 출력하는 code를 작성 하시오.\n",
        "\n"
      ],
      "metadata": {
        "id": "TSeBK_DXrS42"
      }
    },
    {
      "cell_type": "code",
      "source": [
        "%reset -f\n",
        "#과제 7\n",
        "import pandas as pd\n",
        "\n",
        "\n",
        "\n",
        "\n"
      ],
      "metadata": {
        "id": "rVueVatHppCI"
      },
      "execution_count": null,
      "outputs": []
    }
  ]
}