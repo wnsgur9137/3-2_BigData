{
  "cells": [
    {
      "cell_type": "code",
      "execution_count": 1,
      "metadata": {
        "colab": {
          "base_uri": "https://localhost:8080/",
          "height": 815
        },
        "id": "In0AAWz1DeN5",
        "outputId": "1aacc46c-12b6-4cab-8a9e-5c57bb3e44ec"
      },
      "outputs": [
        {
          "name": "stdout",
          "output_type": "stream",
          "text": [
            "Hollys store crawling >>>>>>>>>>>>>>>>>>>>>>>>>>\n",
            "https://www.hollys.co.kr/store/korea/korStore.do?pageNo=1&sido=&gugun=&store=\n",
            "https://www.hollys.co.kr/store/korea/korStore.do?pageNo=2&sido=&gugun=&store=\n",
            "https://www.hollys.co.kr/store/korea/korStore.do?pageNo=3&sido=&gugun=&store=\n",
            "https://www.hollys.co.kr/store/korea/korStore.do?pageNo=4&sido=&gugun=&store=\n",
            "https://www.hollys.co.kr/store/korea/korStore.do?pageNo=5&sido=&gugun=&store=\n",
            "https://www.hollys.co.kr/store/korea/korStore.do?pageNo=6&sido=&gugun=&store=\n",
            "https://www.hollys.co.kr/store/korea/korStore.do?pageNo=7&sido=&gugun=&store=\n",
            "https://www.hollys.co.kr/store/korea/korStore.do?pageNo=8&sido=&gugun=&store=\n",
            "https://www.hollys.co.kr/store/korea/korStore.do?pageNo=9&sido=&gugun=&store=\n",
            "https://www.hollys.co.kr/store/korea/korStore.do?pageNo=10&sido=&gugun=&store=\n"
          ]
        }
      ],
      "source": [
        "from bs4 import BeautifulSoup\n",
        "import urllib.request\n",
        "import pandas as pd\n",
        "import datetime\n",
        "\n",
        "#[CODE 1]\n",
        "def hollys_store(result):\n",
        "    for page in range(1,11):\n",
        "\n",
        "        Hollys_url = 'https://www.hollys.co.kr/store/korea/korStore.do?pageNo=%d&sido=&gugun=&store=' %page\n",
        "        print(Hollys_url)\n",
        "        html = urllib.request.urlopen(Hollys_url)\n",
        "        soupHollys = BeautifulSoup(html, 'html.parser')\n",
        "        tag_tbody = soupHollys.find('tbody')\n",
        "        for store in tag_tbody.find_all('tr'):\n",
        "            if len(store) <= 3:\n",
        "                break\n",
        "            store_td = store.find_all('td')\n",
        "            store_name = store_td[1].string\n",
        "            store_sido = store_td[0].string\n",
        "            store_address = store_td[3].string\n",
        "            store_phone = store_td[5].string\n",
        "            result.append([store_name]+[store_sido]+[store_address]\n",
        "                          +[store_phone])\n",
        "    return\n",
        "\n",
        "#[CODE 0]\n",
        "def main():\n",
        "    result = []\n",
        "    print('Hollys store crawling >>>>>>>>>>>>>>>>>>>>>>>>>>')\n",
        "    hollys_store(result)   #[CODE 1] 호출 \n",
        "    hollys_tbl = pd.DataFrame(result, columns=('store', 'sido-gu', 'address','phone'))\n",
        "    hollys_tbl.to_csv('./hollys.csv', encoding='cp949', mode='w', index=True)\n",
        "    del result[:]\n",
        "       \n",
        "if __name__ == '__main__':\n",
        "     main()\n"
      ]
    }
  ],
  "metadata": {
    "colab": {
      "provenance": []
    },
    "kernelspec": {
      "display_name": "Python 3.9.7 ('base')",
      "language": "python",
      "name": "python3"
    },
    "language_info": {
      "codemirror_mode": {
        "name": "ipython",
        "version": 3
      },
      "file_extension": ".py",
      "mimetype": "text/x-python",
      "name": "python",
      "nbconvert_exporter": "python",
      "pygments_lexer": "ipython3",
      "version": "3.9.7"
    },
    "vscode": {
      "interpreter": {
        "hash": "0d151449e4628feead7016338a20eeec6b2249142759a5d6c87ab1fe3bbdc8d5"
      }
    }
  },
  "nbformat": 4,
  "nbformat_minor": 0
}
