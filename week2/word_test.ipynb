{
  "cells": [
    {
      "cell_type": "code",
      "execution_count": null,
      "metadata": {
        "id": "clX1pqb0l5Ie"
      },
      "outputs": [],
      "source": [
        "%%bash\n",
        "apt-get update\n",
        "apt-get install g++ openjdk-8-jdk python-dev python3-dev\n",
        "pip3 install JPype1\n",
        "pip3 install konlpy"
      ]
    },
    {
      "cell_type": "code",
      "execution_count": null,
      "metadata": {
        "colab": {
          "base_uri": "https://localhost:8080/"
        },
        "id": "GxFCFOCKmMtL",
        "outputId": "cc6bc403-6037-4e53-c681-55a5fc926c88"
      },
      "outputs": [
        {
          "name": "stdout",
          "output_type": "stream",
          "text": [
            "env: JAVA_HOME=\"/usr/lib/jvm/java-8-openjdk-amd64\"\n"
          ]
        }
      ],
      "source": [
        "%env JAVA_HOME \"/usr/lib/jvm/java-8-openjdk-amd64\""
      ]
    },
    {
      "cell_type": "markdown",
      "metadata": {
        "id": "szn61w6vl27g"
      },
      "source": [
        "# 8장. 텍스트빈도분석 - 2) 한글 단어 분석 "
      ]
    },
    {
      "cell_type": "markdown",
      "metadata": {
        "id": "VjcTdXvkl27j"
      },
      "source": [
        "## 한글 단어 분석을 위한 패키지 준비"
      ]
    },
    {
      "cell_type": "code",
      "execution_count": null,
      "metadata": {
        "id": "AdYph1b4l27l"
      },
      "outputs": [],
      "source": [
        "import json\n",
        "import re\n",
        "\n",
        "from konlpy.tag import Okt\n",
        "\n",
        "from collections import Counter\n",
        "\n",
        "import matplotlib\n",
        "import matplotlib.pyplot as plt\n",
        "from matplotlib import font_manager, rc\n",
        "from wordcloud import WordCloud"
      ]
    },
    {
      "cell_type": "markdown",
      "metadata": {
        "id": "H8ypsjN3l27n"
      },
      "source": [
        "# 1. 데이터 준비"
      ]
    },
    {
      "cell_type": "markdown",
      "metadata": {
        "id": "3JPNnWrbl27n"
      },
      "source": [
        "### 1-1. 파일 읽기"
      ]
    },
    {
      "cell_type": "code",
      "execution_count": 9,
      "metadata": {
        "id": "sRnPz4mdl27o"
      },
      "outputs": [
        {
          "ename": "NameError",
          "evalue": "name 'json' is not defined",
          "output_type": "error",
          "traceback": [
            "\u001b[0;31m---------------------------------------------------------------------------\u001b[0m",
            "\u001b[0;31mNameError\u001b[0m                                 Traceback (most recent call last)",
            "\u001b[0;32m/var/folders/4l/64fqxr513477snd_cpn_bfk40000gn/T/ipykernel_82965/947787036.py\u001b[0m in \u001b[0;36m<module>\u001b[0;34m\u001b[0m\n\u001b[1;32m      1\u001b[0m \u001b[0minputFileName\u001b[0m \u001b[0;34m=\u001b[0m \u001b[0;34m'./Swift_naver_news'\u001b[0m\u001b[0;34m\u001b[0m\u001b[0;34m\u001b[0m\u001b[0m\n\u001b[0;32m----> 2\u001b[0;31m \u001b[0mdata\u001b[0m \u001b[0;34m=\u001b[0m \u001b[0mjson\u001b[0m\u001b[0;34m.\u001b[0m\u001b[0mloads\u001b[0m\u001b[0;34m(\u001b[0m\u001b[0mopen\u001b[0m\u001b[0;34m(\u001b[0m\u001b[0minputFileName\u001b[0m\u001b[0;34m+\u001b[0m\u001b[0;34m'.json'\u001b[0m\u001b[0;34m,\u001b[0m \u001b[0;34m'r'\u001b[0m\u001b[0;34m,\u001b[0m \u001b[0mencoding\u001b[0m\u001b[0;34m=\u001b[0m\u001b[0;34m'utf-8'\u001b[0m\u001b[0;34m)\u001b[0m\u001b[0;34m.\u001b[0m\u001b[0mread\u001b[0m\u001b[0;34m(\u001b[0m\u001b[0;34m)\u001b[0m\u001b[0;34m)\u001b[0m\u001b[0;34m\u001b[0m\u001b[0;34m\u001b[0m\u001b[0m\n\u001b[0m\u001b[1;32m      3\u001b[0m \u001b[0mdata\u001b[0m \u001b[0;31m#출력하여 내용 확인\u001b[0m\u001b[0;34m\u001b[0m\u001b[0;34m\u001b[0m\u001b[0m\n",
            "\u001b[0;31mNameError\u001b[0m: name 'json' is not defined"
          ]
        }
      ],
      "source": [
        "inputFileName = './Swift_naver_news'\n",
        "data = json.loads(open(inputFileName+'.json', 'r', encoding='utf-8').read())\n",
        "data #출력하여 내용 확인"
      ]
    },
    {
      "cell_type": "markdown",
      "metadata": {
        "id": "6FLNWW9tl27o"
      },
      "source": [
        "### 1-2. 분석할 데이터 추출"
      ]
    },
    {
      "cell_type": "code",
      "execution_count": null,
      "metadata": {
        "id": "vZ1AHW3vl27p"
      },
      "outputs": [],
      "source": [
        "message = ''\n",
        "\n",
        "for item in data:\n",
        "#    if 'message' in item.keys(): \n",
        "#        message = message + re.sub(r'[^\\w]', ' ', item['message']) +''\n",
        "    if 'description' in item.keys(): \n",
        "        message = message + re.sub(r'[^\\w]', ' ', item['description']) +''\n",
        "        \n",
        "message #출력하여 내용 확인"
      ]
    },
    {
      "cell_type": "markdown",
      "metadata": {
        "id": "YB7Tff2Jl27p"
      },
      "source": [
        "### 1-3. 품사 태깅 : 명사 추출"
      ]
    },
    {
      "cell_type": "code",
      "execution_count": null,
      "metadata": {
        "id": "Pgsbc_Y-l27q",
        "scrolled": true
      },
      "outputs": [],
      "source": [
        "nlp = Okt()\n",
        "message_N = nlp.nouns(message)\n",
        "message_N   #출력하여 내용 확인"
      ]
    },
    {
      "cell_type": "markdown",
      "metadata": {
        "id": "j2VGRQqAl27q"
      },
      "source": [
        "## 2. 데이터 탐색"
      ]
    },
    {
      "cell_type": "markdown",
      "metadata": {
        "id": "ZD9NUVyKl27r"
      },
      "source": [
        "### 2-1. 단어 빈도 탐색"
      ]
    },
    {
      "cell_type": "code",
      "execution_count": null,
      "metadata": {
        "id": "VoZlqs8Ll27r"
      },
      "outputs": [],
      "source": [
        "count = Counter(message_N)\n",
        "\n",
        "count   #출력하여 내용 확인"
      ]
    },
    {
      "cell_type": "code",
      "execution_count": null,
      "metadata": {
        "id": "PDt7GUigl27s",
        "scrolled": true
      },
      "outputs": [],
      "source": [
        "word_count = dict()\n",
        "\n",
        "for tag, counts in count.most_common(80):\n",
        "    if(len(str(tag))>1):\n",
        "        word_count[tag] = counts\n",
        "        print(\"%s : %d\" % (tag, counts))"
      ]
    },
    {
      "cell_type": "markdown",
      "metadata": {
        "id": "EgxXLNE0l27s"
      },
      "source": [
        "### 히스토그램"
      ]
    },
    {
      "cell_type": "code",
      "execution_count": null,
      "metadata": {
        "id": "bADhcuS2oN0S"
      },
      "outputs": [],
      "source": [
        "!apt-get update -qq\n",
        "!apt-get install fonts-nanum* -qq "
      ]
    },
    {
      "cell_type": "code",
      "execution_count": null,
      "metadata": {
        "id": "9sxWIGC7l27t"
      },
      "outputs": [],
      "source": [
        "import matplotlib.font_manager as fm\n",
        "font_path = \"/usr/share/fonts/truetype/nanum/NanumGothicEco.ttf\"\n",
        "font_name = fm.FontProperties(fname = font_path).get_name()\n",
        "matplotlib.rc('font', family=font_name)\n",
        "fm._rebuild()"
      ]
    },
    {
      "cell_type": "code",
      "execution_count": null,
      "metadata": {
        "id": "FiyvWjatl27t",
        "scrolled": true
      },
      "outputs": [],
      "source": [
        "plt.figure(figsize=(12,5))\n",
        "plt.xlabel('키워드')\n",
        "plt.ylabel('빈도수')\n",
        "plt.grid(True)\n",
        "\n",
        "sorted_Keys = sorted(word_count, key=word_count.get, reverse=True)\n",
        "sorted_Values = sorted(word_count.values(), reverse=True)\n",
        "\n",
        "plt.bar(range(len(word_count)), sorted_Values, align='center')\n",
        "plt.xticks(range(len(word_count)), list(sorted_Keys), rotation='75')\n",
        "\n",
        "plt.show()"
      ]
    },
    {
      "cell_type": "markdown",
      "metadata": {
        "id": "behnfiLCl27u"
      },
      "source": [
        "### 워드클라우드"
      ]
    },
    {
      "cell_type": "code",
      "execution_count": null,
      "metadata": {
        "id": "jmG_YFsCl27u"
      },
      "outputs": [],
      "source": [
        "wc = WordCloud(font_path, background_color='ivory', width=800, height=600)\n",
        "cloud=wc.generate_from_frequencies(word_count)\n",
        "\n",
        "plt.figure(figsize=(8,8))\n",
        "plt.imshow(cloud)\n",
        "plt.axis('off')\n",
        "plt.show()"
      ]
    },
    {
      "cell_type": "code",
      "execution_count": null,
      "metadata": {
        "colab": {
          "base_uri": "https://localhost:8080/"
        },
        "id": "3J-016VOl27v",
        "outputId": "f3702095-32d4-493c-9a9b-63a789c9429b"
      },
      "outputs": [
        {
          "data": {
            "text/plain": [
              "<wordcloud.wordcloud.WordCloud at 0x7fb5b24df910>"
            ]
          },
          "execution_count": 38,
          "metadata": {},
          "output_type": "execute_result"
        }
      ],
      "source": [
        "cloud.to_file(inputFileName + '_cloud.jpg')"
      ]
    },
    {
      "cell_type": "code",
      "execution_count": null,
      "metadata": {
        "id": "KYDcXs6Rl27v"
      },
      "outputs": [],
      "source": []
    }
  ],
  "metadata": {
    "colab": {
      "provenance": []
    },
    "kernelspec": {
      "display_name": "Python 3.9.7 ('base')",
      "language": "python",
      "name": "python3"
    },
    "language_info": {
      "codemirror_mode": {
        "name": "ipython",
        "version": 3
      },
      "file_extension": ".py",
      "mimetype": "text/x-python",
      "name": "python",
      "nbconvert_exporter": "python",
      "pygments_lexer": "ipython3",
      "version": "3.9.7"
    },
    "vscode": {
      "interpreter": {
        "hash": "0d151449e4628feead7016338a20eeec6b2249142759a5d6c87ab1fe3bbdc8d5"
      }
    }
  },
  "nbformat": 4,
  "nbformat_minor": 0
}
